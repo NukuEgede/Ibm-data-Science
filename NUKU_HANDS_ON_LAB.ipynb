{
  "metadata": {
    "language_info": {
      "name": ""
    },
    "kernelspec": {
      "name": ""
    }
  },
  "nbformat_minor": 4,
  "nbformat": 4,
  "cells": [
    {
      "cell_type": "markdown",
      "source": "# My Jupyter Notebook on IBM Watson Studio",
      "metadata": {}
    },
    {
      "cell_type": "markdown",
      "source": "# Egede Agbor Nuku\n## Architect",
      "metadata": {}
    },
    {
      "cell_type": "markdown",
      "source": " ## *I am interested in data science because i have found a problem in the Real Estate sector that i can solve with data science models* ",
      "metadata": {}
    },
    {
      "cell_type": "markdown",
      "source": "### The code is cell 5 is meant to solve a complex problem with defined variables ",
      "metadata": {}
    },
    {
      "cell_type": "code",
      "source": "Print(1+4)",
      "metadata": {},
      "execution_count": null,
      "outputs": []
    },
    {
      "cell_type": "markdown",
      "source": " [I'm am Nuku ](https://www.google.com \"Google's Homepage\")\n ## Drinks to buy\n ⋅⋅* coke.\n ⋅⋅* fanta.\n ⋅⋅* champange.\n ## Numbered List\n 1. Coke\n ..1. fanta\n 4. mirinda\n \n | Tables        | Like           | Cool  |\n| ------------- |:-------------:| -----:|\n| col 3 is      | right-aligned | $1600 |\n| col 2 is      | centered      |   $12 |\n| zebra stripes | are neat      |    $1 |",
      "metadata": {}
    },
    {
      "cell_type": "code",
      "source": "",
      "metadata": {},
      "execution_count": null,
      "outputs": []
    }
  ]
}